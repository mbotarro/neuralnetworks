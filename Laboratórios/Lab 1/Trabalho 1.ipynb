{
 "cells": [
  {
   "cell_type": "markdown",
   "metadata": {},
   "source": [
    "# Exercício 01 - Perceptron Adaline\n",
    "\n",
    "## Aluno\n",
    "- Moisés Botarro Ferraz Silva, 8504135"
   ]
  },
  {
   "cell_type": "markdown",
   "metadata": {},
   "source": [
    "# Objetivo"
   ]
  },
  {
   "cell_type": "markdown",
   "metadata": {},
   "source": [
    "Nesse Exercício, iremos implementar o modelo de Perceptron Adaline, utilizando a Regra Delta para ajuste dos pesos. O objetivo é treinar o modelo e utilizá-lo em seguida para reconhecer os símbolos Y e Y invertido."
   ]
  },
  {
   "cell_type": "markdown",
   "metadata": {},
   "source": [
    "# Dados\n",
    "\n",
    "Foram criados 12 arquivos para treinamento: 6 da classe Y (a qual chamaremos de +1) e 6 da classe Y invertido (-1). Esses arquivos encontram-se dentro da pasta **training**. Cada arquivo consiste de um csv com os números -1 e +1 formando a letra Y ou Y invertido. O tamanho do arquivo foi fixado em 5x5.\n",
    "\n",
    "Para a etapa de teste, também foram gerados 6 exemplos, 3 para cada classe. Estes encontram-se no diretório **teste**.\n"
   ]
  },
  {
   "cell_type": "markdown",
   "metadata": {},
   "source": [
    "## Leitura dos dados"
   ]
  },
  {
   "cell_type": "code",
   "execution_count": 1,
   "metadata": {},
   "outputs": [],
   "source": [
    "import numpy as np\n",
    "import csv\n",
    "import os\n",
    "\n",
    "# readFile reads a csv file with the image and return a 1D flatten array with its content\n",
    "def readFile(filename):\n",
    "    with open(filename) as csvfile:\n",
    "        readCSV = csv.reader(csvfile, delimiter=',')\n",
    "        img = []\n",
    "        for row in readCSV:\n",
    "            img.append(row)\n",
    "        \n",
    "    return np.array(img, dtype=int).flatten()\n",
    "\n",
    "# getData reads all csv files inside a directory.\n",
    "def getData(directory):\n",
    "    data = list()\n",
    "    for root, dirs, files in os.walk(directory):\n",
    "        # iterate through the files in the given directory\n",
    "        for f in files:\n",
    "            if f.endswith(\".csv\"):\n",
    "                print('reading file ' + directory + '/' + f)\n",
    "                data.append(readFile(directory + '/' + f))\n",
    "                \n",
    "    return np.array(data)"
   ]
  },
  {
   "cell_type": "markdown",
   "metadata": {},
   "source": [
    "## Dados de treinamento"
   ]
  },
  {
   "cell_type": "markdown",
   "metadata": {},
   "source": [
    "Vamos criar uma matriz **train_data** com todos os exemplos utilizados para o treinamento, com cada exemplo ocupando uma linha. O vetor **train_classes** contém a classe de cada exemplo na correspondente linha de train_data. \n",
    "\n",
    "Assim, o exemplo da linha 1 de train_data, terá sua classe informada na posição 1 de train_classes e assim sucessivamente."
   ]
  },
  {
   "cell_type": "code",
   "execution_count": 2,
   "metadata": {},
   "outputs": [
    {
     "name": "stdout",
     "output_type": "stream",
     "text": [
      "reading file training/y/y4.csv\n",
      "reading file training/y/y5.csv\n",
      "reading file training/y/y6.csv\n",
      "reading file training/y/y2.csv\n",
      "reading file training/y/y3.csv\n",
      "reading file training/y/y1.csv\n",
      "reading file training/y_inv/y_inv1.csv\n",
      "reading file training/y_inv/y_inv2.csv\n",
      "reading file training/y_inv/y_inv3.csv\n",
      "reading file training/y_inv/y_inv6.csv\n",
      "reading file training/y_inv/y_inv4.csv\n",
      "reading file training/y_inv/y_inv5.csv\n"
     ]
    }
   ],
   "source": [
    "# train_classes has the class of each training sample\n",
    "train_classes = []\n",
    "\n",
    "# read the Y examples and add their class (+1) in the class list\n",
    "train_y = getData(\"training/y\")\n",
    "train_classes.extend([1 for i in range(len(train_y))])\n",
    "\n",
    "# read the inverted Y examples and add their class (-1) in the class list\n",
    "train_y_inv = getData(\"training/y_inv\")\n",
    "train_classes.extend([-1 for i in range(len(train_y_inv))])\n",
    "\n",
    "# Concatenate the train_y with train_y_inv examples\n",
    "train_data = np.concatenate((train_y, train_y_inv))"
   ]
  },
  {
   "cell_type": "code",
   "execution_count": 3,
   "metadata": {},
   "outputs": [
    {
     "data": {
      "text/plain": [
       "array([[-1,  1, -1,  1, -1, -1,  1, -1,  1,  1, -1, -1,  1, -1, -1, -1,\n",
       "        -1,  1, -1, -1, -1, -1,  1, -1, -1],\n",
       "       [-1,  1, -1,  1, -1, -1,  1, -1,  1,  1, -1,  1, -1,  1, -1, -1,\n",
       "        -1,  1, -1, -1, -1, -1,  1, -1, -1],\n",
       "       [ 1, -1, -1, -1,  1,  1, -1, -1, -1,  1,  1,  1,  1,  1,  1, -1,\n",
       "        -1,  1, -1, -1, -1, -1,  1, -1, -1],\n",
       "       [ 1, -1, -1, -1,  1, -1,  1, -1,  1, -1, -1, -1,  1, -1, -1, -1,\n",
       "        -1,  1, -1, -1, -1, -1,  1, -1, -1],\n",
       "       [-1,  1, -1,  1, -1, -1, -1,  1, -1,  1, -1, -1,  1, -1, -1, -1,\n",
       "        -1,  1, -1, -1, -1, -1,  1, -1, -1],\n",
       "       [ 1, -1, -1, -1,  1,  1, -1, -1, -1,  1, -1,  1,  1,  1, -1, -1,\n",
       "        -1,  1, -1, -1, -1, -1,  1, -1, -1],\n",
       "       [-1, -1,  1, -1, -1, -1, -1,  1, -1, -1, -1,  1,  1,  1, -1,  1,\n",
       "        -1, -1, -1,  1,  1, -1, -1, -1,  1],\n",
       "       [-1, -1,  1, -1, -1, -1, -1,  1, -1, -1, -1, -1,  1, -1, -1, -1,\n",
       "         1, -1,  1, -1,  1, -1, -1, -1,  1],\n",
       "       [-1, -1,  1, -1, -1, -1, -1,  1, -1, -1, -1, -1,  1, -1, -1, -1,\n",
       "        -1,  1, -1,  1, -1,  1, -1,  1, -1],\n",
       "       [-1, -1,  1, -1, -1, -1, -1,  1, -1, -1,  1,  1,  1,  1,  1,  1,\n",
       "        -1, -1, -1,  1,  1, -1, -1, -1,  1],\n",
       "       [-1, -1,  1, -1, -1, -1, -1,  1, -1, -1, -1, -1,  1, -1, -1, -1,\n",
       "         1, -1,  1,  1, -1,  1, -1,  1, -1],\n",
       "       [-1, -1,  1, -1, -1, -1, -1,  1, -1, -1, -1,  1, -1,  1, -1, -1,\n",
       "         1, -1,  1,  1, -1,  1, -1,  1, -1]])"
      ]
     },
     "execution_count": 3,
     "metadata": {},
     "output_type": "execute_result"
    }
   ],
   "source": [
    "# The train_data\n",
    "train_data"
   ]
  },
  {
   "cell_type": "code",
   "execution_count": 4,
   "metadata": {},
   "outputs": [
    {
     "data": {
      "text/plain": [
       "[1, 1, 1, 1, 1, 1, -1, -1, -1, -1, -1, -1]"
      ]
     },
     "execution_count": 4,
     "metadata": {},
     "output_type": "execute_result"
    }
   ],
   "source": [
    "# Its classes\n",
    "train_classes"
   ]
  },
  {
   "cell_type": "markdown",
   "metadata": {},
   "source": [
    "# Perceptron \n",
    "\n",
    "## Modelo"
   ]
  },
  {
   "cell_type": "markdown",
   "metadata": {},
   "source": [
    "Iremos utilizar o modelo de Perceptron apresentado na figura à seguir."
   ]
  },
  {
   "cell_type": "markdown",
   "metadata": {},
   "source": [
    "<img src=\"images/modelo_perceptron.png\" alt=\"modelo perceptron\" width=\"600\"/>"
   ]
  },
  {
   "cell_type": "markdown",
   "metadata": {},
   "source": [
    "Nele, consideramos uma entrada como bias. Seu valor será sempre 1 e o bias será ajustado como os pesos das demais entradas.\n",
    "\n",
    "Para calcular a saída do neurônio, utilizaremos a expressão\n",
    "\n",
    "$$ y = f(\\sum_{i} w_i x_i - \\theta)$$\n",
    "\n",
    "onde f é a função sinal, definida como\n",
    "\n",
    "$$ \n",
    "    f(x)= \n",
    "\\begin{cases}\n",
    "    1,& \\text{se } x\\geq 0\\\\\n",
    "    -1,              & \\text{caso contrário}\n",
    "\\end{cases}\n",
    "$$"
   ]
  },
  {
   "cell_type": "code",
   "execution_count": 5,
   "metadata": {},
   "outputs": [],
   "source": [
    "# signal function definition\n",
    "def f_signal(x):\n",
    "    if x >= 0:\n",
    "        return 1\n",
    "    else:\n",
    "        return -1"
   ]
  },
  {
   "cell_type": "markdown",
   "metadata": {},
   "source": [
    "## Aprendizado"
   ]
  },
  {
   "cell_type": "markdown",
   "metadata": {},
   "source": [
    "Utilizaremos a Regra Delta para treinamento do Perceptron. Ela consiste das seguintes etapas:\n",
    "    1. Inicialização dos pesos sinápticos com valores randômicos pequenos ou iguais a zero\n",
    "    2. Aplicação de um padrão com seu respectivo valor esperados de saída t e verificação da saída da rede y\n",
    "    3. Cálculo do erro de saída E = t - j\n",
    "    4. Se E == 0, volta-se ao passo 2\n",
    "       Se E != 0, atualiza-se os pesos\n",
    "    5. Volta-se ao passo 2\n",
    "\n",
    "Para a atualização de cada peso $ w_i$ referente à entrada i, utiliza-se a seguinte fórmula\n",
    "\n",
    "$$ \\Delta w_i = \\eta(t - j)x_i , $$\n",
    "\n",
    "\n",
    "obtida através do gradiente da função erro em relação aos pesos adotados nas entradas. A constante $ \\eta $ é conhecida como a taxa de aprendizado e adoremos o valor 0,5 no nosso exemplo.\n",
    "\n",
    "Durante a fase de treinamento, os exemplos serão apresentados em ciclos. O treinamento é finalizado quando, ao final de um ciclo, todas as imagens de treinamento forem classificadas corretamente."
   ]
  },
  {
   "cell_type": "code",
   "execution_count": 6,
   "metadata": {},
   "outputs": [],
   "source": [
    "# Perceptron is a class that represents a single Perceptron. It has a method train to adjust its weigths according\n",
    "# to the given training examples. It also has a predict method to predict the classes of a list of examples passed \n",
    "# to it as a parameter. \n",
    "class Perceptron:\n",
    "    def __init__(self, input_size):\n",
    "        # Perceptron parameters'  initialization\n",
    "        self.bias = np.random.rand()\n",
    "        self.weights = np.random.rand(input_size)\n",
    "        \n",
    "    # compute_output computes the output y for a given sample presented to the perceptron inputs\n",
    "    def compute_output(self, inputs):\n",
    "        return f_signal(np.dot(inputs,self.weights) - self.bias)\n",
    "\n",
    "    \n",
    "    # train adjusts the weights of the perceptron inputs and bias for a given training set\n",
    "    # parameters:\n",
    "    #             samples: matrix with each input example in a line\n",
    "    #             classes: array with the samples classes\n",
    "    #             eta: learning rate\n",
    "    def train(self, samples, classes, eta = 0.5):\n",
    "        changed_weight = False\n",
    "        cycle = 1\n",
    "        \n",
    "        # The training continues until there's no weight adjust in a cycle\n",
    "        while changed_weight == True or cycle == 1:\n",
    "            print(\"Início do Ciclo %d\" % cycle)\n",
    "            \n",
    "            changed_weight = False\n",
    "            \n",
    "            # Present each one of the training examples to the Perceptron\n",
    "            for sample in range(len(samples)):\n",
    "\n",
    "                t = classes[sample]              # example true class\n",
    "                inputs = samples[sample]         # example content in a 1D array\n",
    "                y = self.compute_output(inputs)  # example predicted class\n",
    "\n",
    "                # Only update the weigths if the output y is different from the true class t\n",
    "                if (y != t):\n",
    "                    changed_weight = True\n",
    "                    \n",
    "                    print(\"\\tA imagem %d (classe %d) não  foi classificada corretamente! \" % (sample, t), end=\" \")\n",
    "                    print(\"Ajustando pesos!\")\n",
    "\n",
    "                    # Update input weights\n",
    "                    for i in range(0, len(self.weights)):\n",
    "                        deltaWi = eta*(t-y)*inputs[i]\n",
    "                        self.weights[i] = self.weights[i] + deltaWi\n",
    "                        \n",
    "                    # Update bias weight\n",
    "                    deltaBias = eta*(t-y)*1    # the bias input is always 1\n",
    "                    self.bias = self.bias + deltaBias\n",
    "            \n",
    "            cycle = cycle + 1 \n",
    "        \n",
    "        \n",
    "    # predict infers the class for each one of the examples given in the samples matrix\n",
    "    def predict(self, samples):\n",
    "        predicted_classes = list()\n",
    "        \n",
    "        for s in samples:\n",
    "            predicted_classes.append(self.compute_output(s))\n",
    "            \n",
    "        return predicted_classes"
   ]
  },
  {
   "cell_type": "markdown",
   "metadata": {},
   "source": [
    "# Fase de Treinamento\n",
    "\n",
    "Para a etapa de aprendizado, serão utilizados os arquivos lidos do conjunto de treinamento. Um Perceptron será criado com o mesmo número de entradas que o conteúdo dos arquivos com as letras Y e Y invertido (5x5 = 25 entradas)."
   ]
  },
  {
   "cell_type": "code",
   "execution_count": 8,
   "metadata": {},
   "outputs": [
    {
     "name": "stdout",
     "output_type": "stream",
     "text": [
      "Início do Ciclo 1\n",
      "\tA imagem 0 (classe 1) não  foi classificada corretamente!  Ajustando pesos!\n",
      "Início do Ciclo 2\n"
     ]
    }
   ],
   "source": [
    "perceptron = Perceptron(5*5)\n",
    "perceptron.train(train_data, train_classes, 0.5)"
   ]
  },
  {
   "cell_type": "markdown",
   "metadata": {},
   "source": [
    "Iremos criar uma função de acurácia para avaliação do modelo treinado. A acurácia do modelo será calculada como\n",
    "\n",
    "$$ acurácia = \\frac{\\text{número de exemplos classificados corretamente}}{\\text{número total de exemplos classificados}} $$ "
   ]
  },
  {
   "cell_type": "code",
   "execution_count": 9,
   "metadata": {},
   "outputs": [],
   "source": [
    "def get_accuracy(predicted, real):\n",
    "    correct = 0\n",
    "    for i in range(len(predicted)):\n",
    "        if predicted[i] == real[i]:\n",
    "            correct = correct+1\n",
    "            \n",
    "    return correct/len(predicted)"
   ]
  },
  {
   "cell_type": "markdown",
   "metadata": {},
   "source": [
    "Utilizaremos o Perceptron para classificar os exemplos usados na fase de treinamento. Esperamos obter uma acurácia de 100%, uma vez que o treinamento foi finalizado apenas quando o modelo classificou corretamente todos os exemplos."
   ]
  },
  {
   "cell_type": "code",
   "execution_count": 10,
   "metadata": {},
   "outputs": [
    {
     "name": "stdout",
     "output_type": "stream",
     "text": [
      "Acurácia para exemplos de treinamento: 100.00%\n"
     ]
    }
   ],
   "source": [
    "predicted_classes = perceptron.predict(train_data)\n",
    "train_acc = get_accuracy(predicted_classes, train_classes)\n",
    "print(\"Acurácia para exemplos de treinamento: %.2f%%\" % (train_acc*100))"
   ]
  },
  {
   "cell_type": "markdown",
   "metadata": {},
   "source": [
    "# Fase de Teste"
   ]
  },
  {
   "cell_type": "markdown",
   "metadata": {},
   "source": [
    "Leitura dos exemplos de teste:"
   ]
  },
  {
   "cell_type": "code",
   "execution_count": 11,
   "metadata": {},
   "outputs": [
    {
     "name": "stdout",
     "output_type": "stream",
     "text": [
      "reading file test/y/y2.csv\n",
      "reading file test/y/y3.csv\n",
      "reading file test/y/y1.csv\n",
      "reading file test/y_inv/y_inv1.csv\n",
      "reading file test/y_inv/y_inv2.csv\n",
      "reading file test/y_inv/y_inv3.csv\n"
     ]
    }
   ],
   "source": [
    "# test_classes has the class of each test sample\n",
    "test_classes = []\n",
    "\n",
    "# read the Y examples and add their class (+1) in the class list\n",
    "test_y = getData(\"test/y\")\n",
    "test_classes.extend([1 for i in range(len(test_y))])\n",
    "\n",
    "# read the inverted Y examples and add their class (-1) in the class list\n",
    "test_y_inv = getData(\"test/y_inv\")\n",
    "test_classes.extend([-1 for i in range(len(test_y_inv))])\n",
    "\n",
    "# Concatenate the test_y with test_y_inv examples\n",
    "test_data = np.concatenate((test_y, test_y_inv))"
   ]
  },
  {
   "cell_type": "code",
   "execution_count": 12,
   "metadata": {},
   "outputs": [
    {
     "data": {
      "text/plain": [
       "array([[-1,  1, -1,  1, -1, -1, -1,  1, -1,  1,  1, -1,  1, -1, -1,  1,\n",
       "        -1,  1, -1, -1, -1, -1,  1, -1,  1],\n",
       "       [ 1,  1, -1,  1, -1, -1,  1, -1,  1,  1, -1,  1, -1,  1, -1, -1,\n",
       "        -1,  1, -1, -1,  1, -1,  1, -1,  1],\n",
       "       [ 1, -1, -1, -1,  1,  1, -1, -1, -1,  1, -1,  1,  1,  1, -1, -1,\n",
       "        -1,  1, -1, -1,  1,  1,  1, -1, -1],\n",
       "       [ 1,  1,  1, -1, -1, -1, -1,  1, -1, -1, -1,  1,  1,  1, -1,  1,\n",
       "        -1, -1, -1,  1,  1,  1, -1, -1,  1],\n",
       "       [ 1,  1,  1, -1, -1,  1, -1,  1, -1, -1,  1, -1,  1, -1, -1, -1,\n",
       "        -1,  1, -1,  1, -1,  1, -1,  1, -1],\n",
       "       [-1, -1,  1,  1,  1, -1, -1,  1, -1, -1, -1,  1, -1,  1, -1, -1,\n",
       "         1, -1,  1,  1, -1,  1, -1,  1, -1]])"
      ]
     },
     "execution_count": 12,
     "metadata": {},
     "output_type": "execute_result"
    }
   ],
   "source": [
    "# The test data\n",
    "test_data"
   ]
  },
  {
   "cell_type": "code",
   "execution_count": 13,
   "metadata": {},
   "outputs": [
    {
     "data": {
      "text/plain": [
       "[1, 1, 1, -1, -1, -1]"
      ]
     },
     "execution_count": 13,
     "metadata": {},
     "output_type": "execute_result"
    }
   ],
   "source": [
    "# and its classes\n",
    "test_classes"
   ]
  },
  {
   "cell_type": "markdown",
   "metadata": {},
   "source": [
    "Uso do Perceptron para classificar exemplos de teste:"
   ]
  },
  {
   "cell_type": "code",
   "execution_count": 14,
   "metadata": {},
   "outputs": [],
   "source": [
    "predicted_test_classes = perceptron.predict(test_data)"
   ]
  },
  {
   "cell_type": "markdown",
   "metadata": {},
   "source": [
    "Cálculo da Acurácia para exemplos de teste"
   ]
  },
  {
   "cell_type": "code",
   "execution_count": 15,
   "metadata": {},
   "outputs": [
    {
     "name": "stdout",
     "output_type": "stream",
     "text": [
      "Acurácia para exemplos de teste: 100.00%\n"
     ]
    }
   ],
   "source": [
    "test_acc = get_accuracy(predicted_test_classes, test_classes)\n",
    "print(\"Acurácia para exemplos de teste: %.2f%%\" % (test_acc*100))"
   ]
  },
  {
   "cell_type": "markdown",
   "metadata": {},
   "source": [
    "Foram introduzidos ruídos em algumas imagens de teste para tornar a tarefa de classificá-las mais difícil. Para tal, foram acrescentados +1 fora da região que define o símbolo Y ou Y invertido.\n",
    "\n",
    "Repare que nesse caso, mesmo com os ruídos, obtemos uma acurácia de 100%. \n",
    "\n",
    "Entretanto, treinando novamente o Perceptron, podemos chegar a casos em que nem todas as imagens de teste são classificadas corretamente. Isso ilustra o fato de que, ao treinar o Perceptron, encontra-se **um dos possíveis hiperplanos** separadores das duas classes. Mas até o momento, não impomos nenhuma característica a esse plano. Por exemplo, no algoritmo de aprendizado de máquina SVM, escolheríamos o hiperplano que fique mais ao meio da área de separação entre as duas classes.\n",
    "\n",
    "No caso do nosso Perceptron, durante o treinamento, encontra-se um hiperplano separador mas não é garantido que esse seja o melhor dos possíveis planos separadores."
   ]
  },
  {
   "cell_type": "markdown",
   "metadata": {},
   "source": [
    "Abaixo, vamos treinar novamente um perceptron e utilisá-lo para classificar os mesmos exemplos de teste."
   ]
  },
  {
   "cell_type": "code",
   "execution_count": 18,
   "metadata": {},
   "outputs": [
    {
     "name": "stdout",
     "output_type": "stream",
     "text": [
      "Início do Ciclo 1\n",
      "\tA imagem 0 (classe 1) não  foi classificada corretamente!  Ajustando pesos!\n",
      "Início do Ciclo 2\n",
      "Acurácia para exemplos de teste: 83.33%\n"
     ]
    }
   ],
   "source": [
    "perceptron = Perceptron(5*5)\n",
    "perceptron.train(train_data, train_classes, 0.5)\n",
    "\n",
    "predicted_test_classes = perceptron.predict(test_data)\n",
    "test_acc = get_accuracy(predicted_test_classes, test_classes)\n",
    "print(\"Acurácia para exemplos de teste: %.2f%%\" % (test_acc*100))"
   ]
  },
  {
   "cell_type": "markdown",
   "metadata": {},
   "source": [
    "Vamos analisar qual imagem não foi classificada corretamente:"
   ]
  },
  {
   "cell_type": "code",
   "execution_count": 19,
   "metadata": {},
   "outputs": [
    {
     "name": "stdout",
     "output_type": "stream",
     "text": [
      "Classes Reais: \t\t[1, 1, 1, -1, -1, -1]\n",
      "Classes Preditas: \t[1, 1, -1, -1, -1, -1]\n",
      "Imagens não classificadas corretamente:  [2]\n"
     ]
    }
   ],
   "source": [
    "print(\"Classes Reais: \\t\\t\", end=\"\")\n",
    "print(test_classes)\n",
    "\n",
    "print(\"Classes Preditas: \\t\", end=\"\")\n",
    "print(predicted_test_classes)\n",
    "\n",
    "different_images = [i for i in range(len(test_classes)) if test_classes[i] != predicted_test_classes[i]]\n",
    "print(\"Imagens não classificadas corretamente: \", different_images)"
   ]
  },
  {
   "cell_type": "code",
   "execution_count": 20,
   "metadata": {},
   "outputs": [
    {
     "name": "stdout",
     "output_type": "stream",
     "text": [
      "Imagens não classificadas corretamente:\n",
      " 1 -1 -1 -1  1 \n",
      " 1 -1 -1 -1  1 \n",
      "-1  1  1  1 -1 \n",
      "-1 -1  1 -1 -1 \n",
      " 1  1  1 -1 -1 \n",
      "--------------\n"
     ]
    }
   ],
   "source": [
    "print(\"Imagens não classificadas corretamente:\")\n",
    "for image in different_images:\n",
    "    for i in range(5):\n",
    "        for j in range(5):\n",
    "            print(\"%2d\" % test_data[2][i*5 + j], end=\" \")\n",
    "        print()\n",
    "    print(\"--------------\")"
   ]
  },
  {
   "cell_type": "markdown",
   "metadata": {},
   "source": [
    "Repare que a imagem não classificada coretamente possui metade de uma linha de 1 na parte inferior como ruído adicionado à letra Y, formando uma espécie de _Y. Esse ruído foi adicionado porque todos os exemplos estavam sendo classificados corretamente após diferentes treinamentos. Ele é um exemplo difícil de se classificar e é interessante notar que, mesmo assim, após determinados treinamentos, como o primeiro apresentado acima, um único perceptron foi capaz de classificá-lo corretamente."
   ]
  }
 ],
 "metadata": {
  "kernelspec": {
   "display_name": "Python 3",
   "language": "python",
   "name": "python3"
  },
  "language_info": {
   "codemirror_mode": {
    "name": "ipython",
    "version": 3
   },
   "file_extension": ".py",
   "mimetype": "text/x-python",
   "name": "python",
   "nbconvert_exporter": "python",
   "pygments_lexer": "ipython3",
   "version": "3.7.1"
  }
 },
 "nbformat": 4,
 "nbformat_minor": 2
}
